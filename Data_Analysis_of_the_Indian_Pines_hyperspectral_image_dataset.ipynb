{
  "nbformat": 4,
  "nbformat_minor": 0,
  "metadata": {
    "colab": {
      "provenance": [],
      "authorship_tag": "ABX9TyOs5J0lkMxQ5wvibVC+yiFX",
      "include_colab_link": true
    },
    "kernelspec": {
      "name": "python3",
      "display_name": "Python 3"
    },
    "language_info": {
      "name": "python"
    }
  },
  "cells": [
    {
      "cell_type": "markdown",
      "metadata": {
        "id": "view-in-github",
        "colab_type": "text"
      },
      "source": [
        "<a href=\"https://colab.research.google.com/github/Deba951/Hyperspectral_Image_Analysis_Learning/blob/main/Data_Analysis_of_the_Indian_Pines_hyperspectral_image_dataset.ipynb\" target=\"_parent\"><img src=\"https://colab.research.google.com/assets/colab-badge.svg\" alt=\"Open In Colab\"/></a>"
      ]
    },
    {
      "cell_type": "code",
      "source": [
        "#Upload the CSV file\n",
        "\n",
        "from google.colab import files\n",
        "uploaded = files.upload()"
      ],
      "metadata": {
        "colab": {
          "base_uri": "https://localhost:8080/",
          "height": 74
        },
        "id": "oKmshMdndNiA",
        "outputId": "448e18bf-3879-496d-9c8a-ba5c193865d7"
      },
      "execution_count": 1,
      "outputs": [
        {
          "output_type": "display_data",
          "data": {
            "text/plain": [
              "<IPython.core.display.HTML object>"
            ],
            "text/html": [
              "\n",
              "     <input type=\"file\" id=\"files-aa0a2bc4-66ed-48e8-8f2b-678c61ba21a7\" name=\"files[]\" multiple disabled\n",
              "        style=\"border:none\" />\n",
              "     <output id=\"result-aa0a2bc4-66ed-48e8-8f2b-678c61ba21a7\">\n",
              "      Upload widget is only available when the cell has been executed in the\n",
              "      current browser session. Please rerun this cell to enable.\n",
              "      </output>\n",
              "      <script>// Copyright 2017 Google LLC\n",
              "//\n",
              "// Licensed under the Apache License, Version 2.0 (the \"License\");\n",
              "// you may not use this file except in compliance with the License.\n",
              "// You may obtain a copy of the License at\n",
              "//\n",
              "//      http://www.apache.org/licenses/LICENSE-2.0\n",
              "//\n",
              "// Unless required by applicable law or agreed to in writing, software\n",
              "// distributed under the License is distributed on an \"AS IS\" BASIS,\n",
              "// WITHOUT WARRANTIES OR CONDITIONS OF ANY KIND, either express or implied.\n",
              "// See the License for the specific language governing permissions and\n",
              "// limitations under the License.\n",
              "\n",
              "/**\n",
              " * @fileoverview Helpers for google.colab Python module.\n",
              " */\n",
              "(function(scope) {\n",
              "function span(text, styleAttributes = {}) {\n",
              "  const element = document.createElement('span');\n",
              "  element.textContent = text;\n",
              "  for (const key of Object.keys(styleAttributes)) {\n",
              "    element.style[key] = styleAttributes[key];\n",
              "  }\n",
              "  return element;\n",
              "}\n",
              "\n",
              "// Max number of bytes which will be uploaded at a time.\n",
              "const MAX_PAYLOAD_SIZE = 100 * 1024;\n",
              "\n",
              "function _uploadFiles(inputId, outputId) {\n",
              "  const steps = uploadFilesStep(inputId, outputId);\n",
              "  const outputElement = document.getElementById(outputId);\n",
              "  // Cache steps on the outputElement to make it available for the next call\n",
              "  // to uploadFilesContinue from Python.\n",
              "  outputElement.steps = steps;\n",
              "\n",
              "  return _uploadFilesContinue(outputId);\n",
              "}\n",
              "\n",
              "// This is roughly an async generator (not supported in the browser yet),\n",
              "// where there are multiple asynchronous steps and the Python side is going\n",
              "// to poll for completion of each step.\n",
              "// This uses a Promise to block the python side on completion of each step,\n",
              "// then passes the result of the previous step as the input to the next step.\n",
              "function _uploadFilesContinue(outputId) {\n",
              "  const outputElement = document.getElementById(outputId);\n",
              "  const steps = outputElement.steps;\n",
              "\n",
              "  const next = steps.next(outputElement.lastPromiseValue);\n",
              "  return Promise.resolve(next.value.promise).then((value) => {\n",
              "    // Cache the last promise value to make it available to the next\n",
              "    // step of the generator.\n",
              "    outputElement.lastPromiseValue = value;\n",
              "    return next.value.response;\n",
              "  });\n",
              "}\n",
              "\n",
              "/**\n",
              " * Generator function which is called between each async step of the upload\n",
              " * process.\n",
              " * @param {string} inputId Element ID of the input file picker element.\n",
              " * @param {string} outputId Element ID of the output display.\n",
              " * @return {!Iterable<!Object>} Iterable of next steps.\n",
              " */\n",
              "function* uploadFilesStep(inputId, outputId) {\n",
              "  const inputElement = document.getElementById(inputId);\n",
              "  inputElement.disabled = false;\n",
              "\n",
              "  const outputElement = document.getElementById(outputId);\n",
              "  outputElement.innerHTML = '';\n",
              "\n",
              "  const pickedPromise = new Promise((resolve) => {\n",
              "    inputElement.addEventListener('change', (e) => {\n",
              "      resolve(e.target.files);\n",
              "    });\n",
              "  });\n",
              "\n",
              "  const cancel = document.createElement('button');\n",
              "  inputElement.parentElement.appendChild(cancel);\n",
              "  cancel.textContent = 'Cancel upload';\n",
              "  const cancelPromise = new Promise((resolve) => {\n",
              "    cancel.onclick = () => {\n",
              "      resolve(null);\n",
              "    };\n",
              "  });\n",
              "\n",
              "  // Wait for the user to pick the files.\n",
              "  const files = yield {\n",
              "    promise: Promise.race([pickedPromise, cancelPromise]),\n",
              "    response: {\n",
              "      action: 'starting',\n",
              "    }\n",
              "  };\n",
              "\n",
              "  cancel.remove();\n",
              "\n",
              "  // Disable the input element since further picks are not allowed.\n",
              "  inputElement.disabled = true;\n",
              "\n",
              "  if (!files) {\n",
              "    return {\n",
              "      response: {\n",
              "        action: 'complete',\n",
              "      }\n",
              "    };\n",
              "  }\n",
              "\n",
              "  for (const file of files) {\n",
              "    const li = document.createElement('li');\n",
              "    li.append(span(file.name, {fontWeight: 'bold'}));\n",
              "    li.append(span(\n",
              "        `(${file.type || 'n/a'}) - ${file.size} bytes, ` +\n",
              "        `last modified: ${\n",
              "            file.lastModifiedDate ? file.lastModifiedDate.toLocaleDateString() :\n",
              "                                    'n/a'} - `));\n",
              "    const percent = span('0% done');\n",
              "    li.appendChild(percent);\n",
              "\n",
              "    outputElement.appendChild(li);\n",
              "\n",
              "    const fileDataPromise = new Promise((resolve) => {\n",
              "      const reader = new FileReader();\n",
              "      reader.onload = (e) => {\n",
              "        resolve(e.target.result);\n",
              "      };\n",
              "      reader.readAsArrayBuffer(file);\n",
              "    });\n",
              "    // Wait for the data to be ready.\n",
              "    let fileData = yield {\n",
              "      promise: fileDataPromise,\n",
              "      response: {\n",
              "        action: 'continue',\n",
              "      }\n",
              "    };\n",
              "\n",
              "    // Use a chunked sending to avoid message size limits. See b/62115660.\n",
              "    let position = 0;\n",
              "    do {\n",
              "      const length = Math.min(fileData.byteLength - position, MAX_PAYLOAD_SIZE);\n",
              "      const chunk = new Uint8Array(fileData, position, length);\n",
              "      position += length;\n",
              "\n",
              "      const base64 = btoa(String.fromCharCode.apply(null, chunk));\n",
              "      yield {\n",
              "        response: {\n",
              "          action: 'append',\n",
              "          file: file.name,\n",
              "          data: base64,\n",
              "        },\n",
              "      };\n",
              "\n",
              "      let percentDone = fileData.byteLength === 0 ?\n",
              "          100 :\n",
              "          Math.round((position / fileData.byteLength) * 100);\n",
              "      percent.textContent = `${percentDone}% done`;\n",
              "\n",
              "    } while (position < fileData.byteLength);\n",
              "  }\n",
              "\n",
              "  // All done.\n",
              "  yield {\n",
              "    response: {\n",
              "      action: 'complete',\n",
              "    }\n",
              "  };\n",
              "}\n",
              "\n",
              "scope.google = scope.google || {};\n",
              "scope.google.colab = scope.google.colab || {};\n",
              "scope.google.colab._files = {\n",
              "  _uploadFiles,\n",
              "  _uploadFilesContinue,\n",
              "};\n",
              "})(self);\n",
              "</script> "
            ]
          },
          "metadata": {}
        },
        {
          "output_type": "stream",
          "name": "stdout",
          "text": [
            "Saving Dataset.csv to Dataset.csv\n"
          ]
        }
      ]
    },
    {
      "cell_type": "markdown",
      "source": [
        "This notebook depicts different visualizations of the indian pines dataset."
      ],
      "metadata": {
        "id": "eYhZs_YZ-oGG"
      }
    },
    {
      "cell_type": "markdown",
      "source": [
        "## 1. Importing modules"
      ],
      "metadata": {
        "id": "PY2iL1r2eeCt"
      }
    },
    {
      "cell_type": "code",
      "source": [
        "import matplotlib.pyplot as plt\n",
        "import seaborn as sns\n",
        "import pandas as pd\n",
        "import numpy as np"
      ],
      "metadata": {
        "id": "IRYSeCt0-vz4"
      },
      "execution_count": 2,
      "outputs": []
    },
    {
      "cell_type": "markdown",
      "source": [
        "## 2. Read the dataset"
      ],
      "metadata": {
        "id": "dPJBFli0emaq"
      }
    },
    {
      "cell_type": "code",
      "source": [
        "import io\n",
        "df = pd.read_csv(io.BytesIO(uploaded['Dataset.csv']))\n",
        "print(df)"
      ],
      "metadata": {
        "colab": {
          "base_uri": "https://localhost:8080/"
        },
        "id": "ZJvi9dSDPQHQ",
        "outputId": "9272a7ae-948a-4a90-fa97-bac147453bbe"
      },
      "execution_count": 3,
      "outputs": [
        {
          "output_type": "stream",
          "name": "stdout",
          "text": [
            "       band-1  band-2  band-3  band-4  band-5  band-6  band-7  band-8  band-9  \\\n",
            "0        3172    4142    4506    4279    4782    5048    5213    5106    5053   \n",
            "1        2580    4266    4502    4426    4853    5249    5352    5353    5347   \n",
            "2        3687    4266    4421    4498    5019    5293    5438    5427    5383   \n",
            "3        2749    4258    4603    4493    4958    5234    5417    5355    5349   \n",
            "4        2746    4018    4675    4417    4886    5117    5215    5096    5098   \n",
            "...       ...     ...     ...     ...     ...     ...     ...     ...     ...   \n",
            "21020    2561    3987    4011    4023    4201    4377    4418    4248    4180   \n",
            "21021    2726    4104    4024    3880    4210    4377    4413    4174    4229   \n",
            "21022    3153    3864    4282    3889    4310    4372    4375    4208    4096   \n",
            "21023    3155    4104    4106    4027    4139    4318    4413    4174    4140   \n",
            "21024    3323    3860    4197    3952    4148    4279    4375    4225    3988   \n",
            "\n",
            "       band-10  ...  band-192  band-193  band-194  band-195  band-196  \\\n",
            "0         4750  ...      1094      1090      1112      1090      1062   \n",
            "1         5065  ...      1108      1104      1117      1091      1079   \n",
            "2         5132  ...      1111      1114      1114      1100      1065   \n",
            "3         5096  ...      1122      1108      1109      1109      1071   \n",
            "4         4834  ...      1110      1107      1112      1094      1072   \n",
            "...        ...  ...       ...       ...       ...       ...       ...   \n",
            "21020     3838  ...      1013      1012      1018      1015      1011   \n",
            "21021     3900  ...      1012      1014      1012      1024       998   \n",
            "21022     3878  ...      1016      1015      1016      1021      1008   \n",
            "21023     3933  ...      1005      1011      1008      1012      1014   \n",
            "21024     3866  ...      1018      1014      1007      1015      1002   \n",
            "\n",
            "       band-197  band-198  band-199  band-200  class  \n",
            "0          1069      1057      1020      1020      3  \n",
            "1          1085      1064      1029      1020      3  \n",
            "2          1092      1061      1030      1016      3  \n",
            "3          1088      1060      1030      1006      3  \n",
            "4          1087      1052      1034      1019      3  \n",
            "...         ...       ...       ...       ...    ...  \n",
            "21020      1001      1000      1009      1008      0  \n",
            "21021      1010      1006      1000      1000      0  \n",
            "21022      1019      1003      1008      1000      0  \n",
            "21023      1007      1011      1005      1003      0  \n",
            "21024      1010      1007      1004      1000      0  \n",
            "\n",
            "[21025 rows x 201 columns]\n"
          ]
        }
      ]
    },
    {
      "cell_type": "markdown",
      "source": [
        "# 3. Analysis"
      ],
      "metadata": {
        "id": "a84XnFNnhb5J"
      }
    },
    {
      "cell_type": "code",
      "source": [
        "df.head()"
      ],
      "metadata": {
        "colab": {
          "base_uri": "https://localhost:8080/",
          "height": 297
        },
        "id": "JyHqUgO5QhKf",
        "outputId": "9146881f-b1a2-4c43-bd0f-7d465b9f59c2"
      },
      "execution_count": 4,
      "outputs": [
        {
          "output_type": "execute_result",
          "data": {
            "text/plain": [
              "   band-1  band-2  band-3  band-4  band-5  band-6  band-7  band-8  band-9  \\\n",
              "0    3172    4142    4506    4279    4782    5048    5213    5106    5053   \n",
              "1    2580    4266    4502    4426    4853    5249    5352    5353    5347   \n",
              "2    3687    4266    4421    4498    5019    5293    5438    5427    5383   \n",
              "3    2749    4258    4603    4493    4958    5234    5417    5355    5349   \n",
              "4    2746    4018    4675    4417    4886    5117    5215    5096    5098   \n",
              "\n",
              "   band-10  ...  band-192  band-193  band-194  band-195  band-196  band-197  \\\n",
              "0     4750  ...      1094      1090      1112      1090      1062      1069   \n",
              "1     5065  ...      1108      1104      1117      1091      1079      1085   \n",
              "2     5132  ...      1111      1114      1114      1100      1065      1092   \n",
              "3     5096  ...      1122      1108      1109      1109      1071      1088   \n",
              "4     4834  ...      1110      1107      1112      1094      1072      1087   \n",
              "\n",
              "   band-198  band-199  band-200  class  \n",
              "0      1057      1020      1020      3  \n",
              "1      1064      1029      1020      3  \n",
              "2      1061      1030      1016      3  \n",
              "3      1060      1030      1006      3  \n",
              "4      1052      1034      1019      3  \n",
              "\n",
              "[5 rows x 201 columns]"
            ],
            "text/html": [
              "\n",
              "\n",
              "  <div id=\"df-fbe31080-d6a6-454d-a9e7-8e393dd1a247\">\n",
              "    <div class=\"colab-df-container\">\n",
              "      <div>\n",
              "<style scoped>\n",
              "    .dataframe tbody tr th:only-of-type {\n",
              "        vertical-align: middle;\n",
              "    }\n",
              "\n",
              "    .dataframe tbody tr th {\n",
              "        vertical-align: top;\n",
              "    }\n",
              "\n",
              "    .dataframe thead th {\n",
              "        text-align: right;\n",
              "    }\n",
              "</style>\n",
              "<table border=\"1\" class=\"dataframe\">\n",
              "  <thead>\n",
              "    <tr style=\"text-align: right;\">\n",
              "      <th></th>\n",
              "      <th>band-1</th>\n",
              "      <th>band-2</th>\n",
              "      <th>band-3</th>\n",
              "      <th>band-4</th>\n",
              "      <th>band-5</th>\n",
              "      <th>band-6</th>\n",
              "      <th>band-7</th>\n",
              "      <th>band-8</th>\n",
              "      <th>band-9</th>\n",
              "      <th>band-10</th>\n",
              "      <th>...</th>\n",
              "      <th>band-192</th>\n",
              "      <th>band-193</th>\n",
              "      <th>band-194</th>\n",
              "      <th>band-195</th>\n",
              "      <th>band-196</th>\n",
              "      <th>band-197</th>\n",
              "      <th>band-198</th>\n",
              "      <th>band-199</th>\n",
              "      <th>band-200</th>\n",
              "      <th>class</th>\n",
              "    </tr>\n",
              "  </thead>\n",
              "  <tbody>\n",
              "    <tr>\n",
              "      <th>0</th>\n",
              "      <td>3172</td>\n",
              "      <td>4142</td>\n",
              "      <td>4506</td>\n",
              "      <td>4279</td>\n",
              "      <td>4782</td>\n",
              "      <td>5048</td>\n",
              "      <td>5213</td>\n",
              "      <td>5106</td>\n",
              "      <td>5053</td>\n",
              "      <td>4750</td>\n",
              "      <td>...</td>\n",
              "      <td>1094</td>\n",
              "      <td>1090</td>\n",
              "      <td>1112</td>\n",
              "      <td>1090</td>\n",
              "      <td>1062</td>\n",
              "      <td>1069</td>\n",
              "      <td>1057</td>\n",
              "      <td>1020</td>\n",
              "      <td>1020</td>\n",
              "      <td>3</td>\n",
              "    </tr>\n",
              "    <tr>\n",
              "      <th>1</th>\n",
              "      <td>2580</td>\n",
              "      <td>4266</td>\n",
              "      <td>4502</td>\n",
              "      <td>4426</td>\n",
              "      <td>4853</td>\n",
              "      <td>5249</td>\n",
              "      <td>5352</td>\n",
              "      <td>5353</td>\n",
              "      <td>5347</td>\n",
              "      <td>5065</td>\n",
              "      <td>...</td>\n",
              "      <td>1108</td>\n",
              "      <td>1104</td>\n",
              "      <td>1117</td>\n",
              "      <td>1091</td>\n",
              "      <td>1079</td>\n",
              "      <td>1085</td>\n",
              "      <td>1064</td>\n",
              "      <td>1029</td>\n",
              "      <td>1020</td>\n",
              "      <td>3</td>\n",
              "    </tr>\n",
              "    <tr>\n",
              "      <th>2</th>\n",
              "      <td>3687</td>\n",
              "      <td>4266</td>\n",
              "      <td>4421</td>\n",
              "      <td>4498</td>\n",
              "      <td>5019</td>\n",
              "      <td>5293</td>\n",
              "      <td>5438</td>\n",
              "      <td>5427</td>\n",
              "      <td>5383</td>\n",
              "      <td>5132</td>\n",
              "      <td>...</td>\n",
              "      <td>1111</td>\n",
              "      <td>1114</td>\n",
              "      <td>1114</td>\n",
              "      <td>1100</td>\n",
              "      <td>1065</td>\n",
              "      <td>1092</td>\n",
              "      <td>1061</td>\n",
              "      <td>1030</td>\n",
              "      <td>1016</td>\n",
              "      <td>3</td>\n",
              "    </tr>\n",
              "    <tr>\n",
              "      <th>3</th>\n",
              "      <td>2749</td>\n",
              "      <td>4258</td>\n",
              "      <td>4603</td>\n",
              "      <td>4493</td>\n",
              "      <td>4958</td>\n",
              "      <td>5234</td>\n",
              "      <td>5417</td>\n",
              "      <td>5355</td>\n",
              "      <td>5349</td>\n",
              "      <td>5096</td>\n",
              "      <td>...</td>\n",
              "      <td>1122</td>\n",
              "      <td>1108</td>\n",
              "      <td>1109</td>\n",
              "      <td>1109</td>\n",
              "      <td>1071</td>\n",
              "      <td>1088</td>\n",
              "      <td>1060</td>\n",
              "      <td>1030</td>\n",
              "      <td>1006</td>\n",
              "      <td>3</td>\n",
              "    </tr>\n",
              "    <tr>\n",
              "      <th>4</th>\n",
              "      <td>2746</td>\n",
              "      <td>4018</td>\n",
              "      <td>4675</td>\n",
              "      <td>4417</td>\n",
              "      <td>4886</td>\n",
              "      <td>5117</td>\n",
              "      <td>5215</td>\n",
              "      <td>5096</td>\n",
              "      <td>5098</td>\n",
              "      <td>4834</td>\n",
              "      <td>...</td>\n",
              "      <td>1110</td>\n",
              "      <td>1107</td>\n",
              "      <td>1112</td>\n",
              "      <td>1094</td>\n",
              "      <td>1072</td>\n",
              "      <td>1087</td>\n",
              "      <td>1052</td>\n",
              "      <td>1034</td>\n",
              "      <td>1019</td>\n",
              "      <td>3</td>\n",
              "    </tr>\n",
              "  </tbody>\n",
              "</table>\n",
              "<p>5 rows × 201 columns</p>\n",
              "</div>\n",
              "      <button class=\"colab-df-convert\" onclick=\"convertToInteractive('df-fbe31080-d6a6-454d-a9e7-8e393dd1a247')\"\n",
              "              title=\"Convert this dataframe to an interactive table.\"\n",
              "              style=\"display:none;\">\n",
              "\n",
              "  <svg xmlns=\"http://www.w3.org/2000/svg\" height=\"24px\"viewBox=\"0 0 24 24\"\n",
              "       width=\"24px\">\n",
              "    <path d=\"M0 0h24v24H0V0z\" fill=\"none\"/>\n",
              "    <path d=\"M18.56 5.44l.94 2.06.94-2.06 2.06-.94-2.06-.94-.94-2.06-.94 2.06-2.06.94zm-11 1L8.5 8.5l.94-2.06 2.06-.94-2.06-.94L8.5 2.5l-.94 2.06-2.06.94zm10 10l.94 2.06.94-2.06 2.06-.94-2.06-.94-.94-2.06-.94 2.06-2.06.94z\"/><path d=\"M17.41 7.96l-1.37-1.37c-.4-.4-.92-.59-1.43-.59-.52 0-1.04.2-1.43.59L10.3 9.45l-7.72 7.72c-.78.78-.78 2.05 0 2.83L4 21.41c.39.39.9.59 1.41.59.51 0 1.02-.2 1.41-.59l7.78-7.78 2.81-2.81c.8-.78.8-2.07 0-2.86zM5.41 20L4 18.59l7.72-7.72 1.47 1.35L5.41 20z\"/>\n",
              "  </svg>\n",
              "      </button>\n",
              "\n",
              "\n",
              "\n",
              "    <div id=\"df-c6174cf3-e230-460b-8080-e4d0344bc573\">\n",
              "      <button class=\"colab-df-quickchart\" onclick=\"quickchart('df-c6174cf3-e230-460b-8080-e4d0344bc573')\"\n",
              "              title=\"Suggest charts.\"\n",
              "              style=\"display:none;\">\n",
              "\n",
              "<svg xmlns=\"http://www.w3.org/2000/svg\" height=\"24px\"viewBox=\"0 0 24 24\"\n",
              "     width=\"24px\">\n",
              "    <g>\n",
              "        <path d=\"M19 3H5c-1.1 0-2 .9-2 2v14c0 1.1.9 2 2 2h14c1.1 0 2-.9 2-2V5c0-1.1-.9-2-2-2zM9 17H7v-7h2v7zm4 0h-2V7h2v10zm4 0h-2v-4h2v4z\"/>\n",
              "    </g>\n",
              "</svg>\n",
              "      </button>\n",
              "    </div>\n",
              "\n",
              "<style>\n",
              "  .colab-df-quickchart {\n",
              "    background-color: #E8F0FE;\n",
              "    border: none;\n",
              "    border-radius: 50%;\n",
              "    cursor: pointer;\n",
              "    display: none;\n",
              "    fill: #1967D2;\n",
              "    height: 32px;\n",
              "    padding: 0 0 0 0;\n",
              "    width: 32px;\n",
              "  }\n",
              "\n",
              "  .colab-df-quickchart:hover {\n",
              "    background-color: #E2EBFA;\n",
              "    box-shadow: 0px 1px 2px rgba(60, 64, 67, 0.3), 0px 1px 3px 1px rgba(60, 64, 67, 0.15);\n",
              "    fill: #174EA6;\n",
              "  }\n",
              "\n",
              "  [theme=dark] .colab-df-quickchart {\n",
              "    background-color: #3B4455;\n",
              "    fill: #D2E3FC;\n",
              "  }\n",
              "\n",
              "  [theme=dark] .colab-df-quickchart:hover {\n",
              "    background-color: #434B5C;\n",
              "    box-shadow: 0px 1px 3px 1px rgba(0, 0, 0, 0.15);\n",
              "    filter: drop-shadow(0px 1px 2px rgba(0, 0, 0, 0.3));\n",
              "    fill: #FFFFFF;\n",
              "  }\n",
              "</style>\n",
              "\n",
              "    <script>\n",
              "      async function quickchart(key) {\n",
              "        const containerElement = document.querySelector('#' + key);\n",
              "        const charts = await google.colab.kernel.invokeFunction(\n",
              "            'suggestCharts', [key], {});\n",
              "      }\n",
              "    </script>\n",
              "\n",
              "      <script>\n",
              "\n",
              "function displayQuickchartButton(domScope) {\n",
              "  let quickchartButtonEl =\n",
              "    domScope.querySelector('#df-c6174cf3-e230-460b-8080-e4d0344bc573 button.colab-df-quickchart');\n",
              "  quickchartButtonEl.style.display =\n",
              "    google.colab.kernel.accessAllowed ? 'block' : 'none';\n",
              "}\n",
              "\n",
              "        displayQuickchartButton(document);\n",
              "      </script>\n",
              "      <style>\n",
              "    .colab-df-container {\n",
              "      display:flex;\n",
              "      flex-wrap:wrap;\n",
              "      gap: 12px;\n",
              "    }\n",
              "\n",
              "    .colab-df-convert {\n",
              "      background-color: #E8F0FE;\n",
              "      border: none;\n",
              "      border-radius: 50%;\n",
              "      cursor: pointer;\n",
              "      display: none;\n",
              "      fill: #1967D2;\n",
              "      height: 32px;\n",
              "      padding: 0 0 0 0;\n",
              "      width: 32px;\n",
              "    }\n",
              "\n",
              "    .colab-df-convert:hover {\n",
              "      background-color: #E2EBFA;\n",
              "      box-shadow: 0px 1px 2px rgba(60, 64, 67, 0.3), 0px 1px 3px 1px rgba(60, 64, 67, 0.15);\n",
              "      fill: #174EA6;\n",
              "    }\n",
              "\n",
              "    [theme=dark] .colab-df-convert {\n",
              "      background-color: #3B4455;\n",
              "      fill: #D2E3FC;\n",
              "    }\n",
              "\n",
              "    [theme=dark] .colab-df-convert:hover {\n",
              "      background-color: #434B5C;\n",
              "      box-shadow: 0px 1px 3px 1px rgba(0, 0, 0, 0.15);\n",
              "      filter: drop-shadow(0px 1px 2px rgba(0, 0, 0, 0.3));\n",
              "      fill: #FFFFFF;\n",
              "    }\n",
              "  </style>\n",
              "\n",
              "      <script>\n",
              "        const buttonEl =\n",
              "          document.querySelector('#df-fbe31080-d6a6-454d-a9e7-8e393dd1a247 button.colab-df-convert');\n",
              "        buttonEl.style.display =\n",
              "          google.colab.kernel.accessAllowed ? 'block' : 'none';\n",
              "\n",
              "        async function convertToInteractive(key) {\n",
              "          const element = document.querySelector('#df-fbe31080-d6a6-454d-a9e7-8e393dd1a247');\n",
              "          const dataTable =\n",
              "            await google.colab.kernel.invokeFunction('convertToInteractive',\n",
              "                                                     [key], {});\n",
              "          if (!dataTable) return;\n",
              "\n",
              "          const docLinkHtml = 'Like what you see? Visit the ' +\n",
              "            '<a target=\"_blank\" href=https://colab.research.google.com/notebooks/data_table.ipynb>data table notebook</a>'\n",
              "            + ' to learn more about interactive tables.';\n",
              "          element.innerHTML = '';\n",
              "          dataTable['output_type'] = 'display_data';\n",
              "          await google.colab.output.renderOutput(dataTable, element);\n",
              "          const docLink = document.createElement('div');\n",
              "          docLink.innerHTML = docLinkHtml;\n",
              "          element.appendChild(docLink);\n",
              "        }\n",
              "      </script>\n",
              "    </div>\n",
              "  </div>\n"
            ]
          },
          "metadata": {},
          "execution_count": 4
        }
      ]
    },
    {
      "cell_type": "code",
      "source": [
        "df.sample(6)"
      ],
      "metadata": {
        "colab": {
          "base_uri": "https://localhost:8080/",
          "height": 328
        },
        "id": "G1Idts4-Qr2S",
        "outputId": "1f205df4-e406-4d85-b017-bd262888f4ce"
      },
      "execution_count": 5,
      "outputs": [
        {
          "output_type": "execute_result",
          "data": {
            "text/plain": [
              "       band-1  band-2  band-3  band-4  band-5  band-6  band-7  band-8  band-9  \\\n",
              "10703    3191    3985    4112    4027    4329    4483    4494    4293    4236   \n",
              "13048    2594    4243    4136    4264    4602    4827    4790    4639    4583   \n",
              "20218    3324    3862    4010    3879    4193    4269    4230    4038    3966   \n",
              "1994     3673    4138    4513    4270    4762    4970    5138    4943    4913   \n",
              "4499     2743    4255    4510    4351    4889    5002    5154    4998    5040   \n",
              "15343    3010    3976    3936    3819    4099    4235    4277    4123    4028   \n",
              "\n",
              "       band-10  ...  band-192  band-193  band-194  band-195  band-196  \\\n",
              "10703     4038  ...      1023      1021      1022      1012      1029   \n",
              "13048     4456  ...      1041      1031      1034      1022      1018   \n",
              "20218     3720  ...      1018      1015      1016      1010      1006   \n",
              "1994      4681  ...      1114      1099      1108      1101      1084   \n",
              "4499      4804  ...      1106      1101      1109      1082      1071   \n",
              "15343     3770  ...      1015      1012      1013      1006      1010   \n",
              "\n",
              "       band-197  band-198  band-199  band-200  class  \n",
              "10703      1023      1012      1017      1018      0  \n",
              "13048      1027      1016      1004      1018      0  \n",
              "20218      1010      1011      1008      1013      0  \n",
              "1994       1086      1056      1021      1010     11  \n",
              "4499       1078      1055      1030      1010      0  \n",
              "15343      1014      1011       991      1004      0  \n",
              "\n",
              "[6 rows x 201 columns]"
            ],
            "text/html": [
              "\n",
              "\n",
              "  <div id=\"df-2b501fcc-7e18-4dfb-9964-fdfaf28891d6\">\n",
              "    <div class=\"colab-df-container\">\n",
              "      <div>\n",
              "<style scoped>\n",
              "    .dataframe tbody tr th:only-of-type {\n",
              "        vertical-align: middle;\n",
              "    }\n",
              "\n",
              "    .dataframe tbody tr th {\n",
              "        vertical-align: top;\n",
              "    }\n",
              "\n",
              "    .dataframe thead th {\n",
              "        text-align: right;\n",
              "    }\n",
              "</style>\n",
              "<table border=\"1\" class=\"dataframe\">\n",
              "  <thead>\n",
              "    <tr style=\"text-align: right;\">\n",
              "      <th></th>\n",
              "      <th>band-1</th>\n",
              "      <th>band-2</th>\n",
              "      <th>band-3</th>\n",
              "      <th>band-4</th>\n",
              "      <th>band-5</th>\n",
              "      <th>band-6</th>\n",
              "      <th>band-7</th>\n",
              "      <th>band-8</th>\n",
              "      <th>band-9</th>\n",
              "      <th>band-10</th>\n",
              "      <th>...</th>\n",
              "      <th>band-192</th>\n",
              "      <th>band-193</th>\n",
              "      <th>band-194</th>\n",
              "      <th>band-195</th>\n",
              "      <th>band-196</th>\n",
              "      <th>band-197</th>\n",
              "      <th>band-198</th>\n",
              "      <th>band-199</th>\n",
              "      <th>band-200</th>\n",
              "      <th>class</th>\n",
              "    </tr>\n",
              "  </thead>\n",
              "  <tbody>\n",
              "    <tr>\n",
              "      <th>10703</th>\n",
              "      <td>3191</td>\n",
              "      <td>3985</td>\n",
              "      <td>4112</td>\n",
              "      <td>4027</td>\n",
              "      <td>4329</td>\n",
              "      <td>4483</td>\n",
              "      <td>4494</td>\n",
              "      <td>4293</td>\n",
              "      <td>4236</td>\n",
              "      <td>4038</td>\n",
              "      <td>...</td>\n",
              "      <td>1023</td>\n",
              "      <td>1021</td>\n",
              "      <td>1022</td>\n",
              "      <td>1012</td>\n",
              "      <td>1029</td>\n",
              "      <td>1023</td>\n",
              "      <td>1012</td>\n",
              "      <td>1017</td>\n",
              "      <td>1018</td>\n",
              "      <td>0</td>\n",
              "    </tr>\n",
              "    <tr>\n",
              "      <th>13048</th>\n",
              "      <td>2594</td>\n",
              "      <td>4243</td>\n",
              "      <td>4136</td>\n",
              "      <td>4264</td>\n",
              "      <td>4602</td>\n",
              "      <td>4827</td>\n",
              "      <td>4790</td>\n",
              "      <td>4639</td>\n",
              "      <td>4583</td>\n",
              "      <td>4456</td>\n",
              "      <td>...</td>\n",
              "      <td>1041</td>\n",
              "      <td>1031</td>\n",
              "      <td>1034</td>\n",
              "      <td>1022</td>\n",
              "      <td>1018</td>\n",
              "      <td>1027</td>\n",
              "      <td>1016</td>\n",
              "      <td>1004</td>\n",
              "      <td>1018</td>\n",
              "      <td>0</td>\n",
              "    </tr>\n",
              "    <tr>\n",
              "      <th>20218</th>\n",
              "      <td>3324</td>\n",
              "      <td>3862</td>\n",
              "      <td>4010</td>\n",
              "      <td>3879</td>\n",
              "      <td>4193</td>\n",
              "      <td>4269</td>\n",
              "      <td>4230</td>\n",
              "      <td>4038</td>\n",
              "      <td>3966</td>\n",
              "      <td>3720</td>\n",
              "      <td>...</td>\n",
              "      <td>1018</td>\n",
              "      <td>1015</td>\n",
              "      <td>1016</td>\n",
              "      <td>1010</td>\n",
              "      <td>1006</td>\n",
              "      <td>1010</td>\n",
              "      <td>1011</td>\n",
              "      <td>1008</td>\n",
              "      <td>1013</td>\n",
              "      <td>0</td>\n",
              "    </tr>\n",
              "    <tr>\n",
              "      <th>1994</th>\n",
              "      <td>3673</td>\n",
              "      <td>4138</td>\n",
              "      <td>4513</td>\n",
              "      <td>4270</td>\n",
              "      <td>4762</td>\n",
              "      <td>4970</td>\n",
              "      <td>5138</td>\n",
              "      <td>4943</td>\n",
              "      <td>4913</td>\n",
              "      <td>4681</td>\n",
              "      <td>...</td>\n",
              "      <td>1114</td>\n",
              "      <td>1099</td>\n",
              "      <td>1108</td>\n",
              "      <td>1101</td>\n",
              "      <td>1084</td>\n",
              "      <td>1086</td>\n",
              "      <td>1056</td>\n",
              "      <td>1021</td>\n",
              "      <td>1010</td>\n",
              "      <td>11</td>\n",
              "    </tr>\n",
              "    <tr>\n",
              "      <th>4499</th>\n",
              "      <td>2743</td>\n",
              "      <td>4255</td>\n",
              "      <td>4510</td>\n",
              "      <td>4351</td>\n",
              "      <td>4889</td>\n",
              "      <td>5002</td>\n",
              "      <td>5154</td>\n",
              "      <td>4998</td>\n",
              "      <td>5040</td>\n",
              "      <td>4804</td>\n",
              "      <td>...</td>\n",
              "      <td>1106</td>\n",
              "      <td>1101</td>\n",
              "      <td>1109</td>\n",
              "      <td>1082</td>\n",
              "      <td>1071</td>\n",
              "      <td>1078</td>\n",
              "      <td>1055</td>\n",
              "      <td>1030</td>\n",
              "      <td>1010</td>\n",
              "      <td>0</td>\n",
              "    </tr>\n",
              "    <tr>\n",
              "      <th>15343</th>\n",
              "      <td>3010</td>\n",
              "      <td>3976</td>\n",
              "      <td>3936</td>\n",
              "      <td>3819</td>\n",
              "      <td>4099</td>\n",
              "      <td>4235</td>\n",
              "      <td>4277</td>\n",
              "      <td>4123</td>\n",
              "      <td>4028</td>\n",
              "      <td>3770</td>\n",
              "      <td>...</td>\n",
              "      <td>1015</td>\n",
              "      <td>1012</td>\n",
              "      <td>1013</td>\n",
              "      <td>1006</td>\n",
              "      <td>1010</td>\n",
              "      <td>1014</td>\n",
              "      <td>1011</td>\n",
              "      <td>991</td>\n",
              "      <td>1004</td>\n",
              "      <td>0</td>\n",
              "    </tr>\n",
              "  </tbody>\n",
              "</table>\n",
              "<p>6 rows × 201 columns</p>\n",
              "</div>\n",
              "      <button class=\"colab-df-convert\" onclick=\"convertToInteractive('df-2b501fcc-7e18-4dfb-9964-fdfaf28891d6')\"\n",
              "              title=\"Convert this dataframe to an interactive table.\"\n",
              "              style=\"display:none;\">\n",
              "\n",
              "  <svg xmlns=\"http://www.w3.org/2000/svg\" height=\"24px\"viewBox=\"0 0 24 24\"\n",
              "       width=\"24px\">\n",
              "    <path d=\"M0 0h24v24H0V0z\" fill=\"none\"/>\n",
              "    <path d=\"M18.56 5.44l.94 2.06.94-2.06 2.06-.94-2.06-.94-.94-2.06-.94 2.06-2.06.94zm-11 1L8.5 8.5l.94-2.06 2.06-.94-2.06-.94L8.5 2.5l-.94 2.06-2.06.94zm10 10l.94 2.06.94-2.06 2.06-.94-2.06-.94-.94-2.06-.94 2.06-2.06.94z\"/><path d=\"M17.41 7.96l-1.37-1.37c-.4-.4-.92-.59-1.43-.59-.52 0-1.04.2-1.43.59L10.3 9.45l-7.72 7.72c-.78.78-.78 2.05 0 2.83L4 21.41c.39.39.9.59 1.41.59.51 0 1.02-.2 1.41-.59l7.78-7.78 2.81-2.81c.8-.78.8-2.07 0-2.86zM5.41 20L4 18.59l7.72-7.72 1.47 1.35L5.41 20z\"/>\n",
              "  </svg>\n",
              "      </button>\n",
              "\n",
              "\n",
              "\n",
              "    <div id=\"df-fe1c5ad8-b0b2-45d0-83da-ab27af5b3611\">\n",
              "      <button class=\"colab-df-quickchart\" onclick=\"quickchart('df-fe1c5ad8-b0b2-45d0-83da-ab27af5b3611')\"\n",
              "              title=\"Suggest charts.\"\n",
              "              style=\"display:none;\">\n",
              "\n",
              "<svg xmlns=\"http://www.w3.org/2000/svg\" height=\"24px\"viewBox=\"0 0 24 24\"\n",
              "     width=\"24px\">\n",
              "    <g>\n",
              "        <path d=\"M19 3H5c-1.1 0-2 .9-2 2v14c0 1.1.9 2 2 2h14c1.1 0 2-.9 2-2V5c0-1.1-.9-2-2-2zM9 17H7v-7h2v7zm4 0h-2V7h2v10zm4 0h-2v-4h2v4z\"/>\n",
              "    </g>\n",
              "</svg>\n",
              "      </button>\n",
              "    </div>\n",
              "\n",
              "<style>\n",
              "  .colab-df-quickchart {\n",
              "    background-color: #E8F0FE;\n",
              "    border: none;\n",
              "    border-radius: 50%;\n",
              "    cursor: pointer;\n",
              "    display: none;\n",
              "    fill: #1967D2;\n",
              "    height: 32px;\n",
              "    padding: 0 0 0 0;\n",
              "    width: 32px;\n",
              "  }\n",
              "\n",
              "  .colab-df-quickchart:hover {\n",
              "    background-color: #E2EBFA;\n",
              "    box-shadow: 0px 1px 2px rgba(60, 64, 67, 0.3), 0px 1px 3px 1px rgba(60, 64, 67, 0.15);\n",
              "    fill: #174EA6;\n",
              "  }\n",
              "\n",
              "  [theme=dark] .colab-df-quickchart {\n",
              "    background-color: #3B4455;\n",
              "    fill: #D2E3FC;\n",
              "  }\n",
              "\n",
              "  [theme=dark] .colab-df-quickchart:hover {\n",
              "    background-color: #434B5C;\n",
              "    box-shadow: 0px 1px 3px 1px rgba(0, 0, 0, 0.15);\n",
              "    filter: drop-shadow(0px 1px 2px rgba(0, 0, 0, 0.3));\n",
              "    fill: #FFFFFF;\n",
              "  }\n",
              "</style>\n",
              "\n",
              "    <script>\n",
              "      async function quickchart(key) {\n",
              "        const containerElement = document.querySelector('#' + key);\n",
              "        const charts = await google.colab.kernel.invokeFunction(\n",
              "            'suggestCharts', [key], {});\n",
              "      }\n",
              "    </script>\n",
              "\n",
              "      <script>\n",
              "\n",
              "function displayQuickchartButton(domScope) {\n",
              "  let quickchartButtonEl =\n",
              "    domScope.querySelector('#df-fe1c5ad8-b0b2-45d0-83da-ab27af5b3611 button.colab-df-quickchart');\n",
              "  quickchartButtonEl.style.display =\n",
              "    google.colab.kernel.accessAllowed ? 'block' : 'none';\n",
              "}\n",
              "\n",
              "        displayQuickchartButton(document);\n",
              "      </script>\n",
              "      <style>\n",
              "    .colab-df-container {\n",
              "      display:flex;\n",
              "      flex-wrap:wrap;\n",
              "      gap: 12px;\n",
              "    }\n",
              "\n",
              "    .colab-df-convert {\n",
              "      background-color: #E8F0FE;\n",
              "      border: none;\n",
              "      border-radius: 50%;\n",
              "      cursor: pointer;\n",
              "      display: none;\n",
              "      fill: #1967D2;\n",
              "      height: 32px;\n",
              "      padding: 0 0 0 0;\n",
              "      width: 32px;\n",
              "    }\n",
              "\n",
              "    .colab-df-convert:hover {\n",
              "      background-color: #E2EBFA;\n",
              "      box-shadow: 0px 1px 2px rgba(60, 64, 67, 0.3), 0px 1px 3px 1px rgba(60, 64, 67, 0.15);\n",
              "      fill: #174EA6;\n",
              "    }\n",
              "\n",
              "    [theme=dark] .colab-df-convert {\n",
              "      background-color: #3B4455;\n",
              "      fill: #D2E3FC;\n",
              "    }\n",
              "\n",
              "    [theme=dark] .colab-df-convert:hover {\n",
              "      background-color: #434B5C;\n",
              "      box-shadow: 0px 1px 3px 1px rgba(0, 0, 0, 0.15);\n",
              "      filter: drop-shadow(0px 1px 2px rgba(0, 0, 0, 0.3));\n",
              "      fill: #FFFFFF;\n",
              "    }\n",
              "  </style>\n",
              "\n",
              "      <script>\n",
              "        const buttonEl =\n",
              "          document.querySelector('#df-2b501fcc-7e18-4dfb-9964-fdfaf28891d6 button.colab-df-convert');\n",
              "        buttonEl.style.display =\n",
              "          google.colab.kernel.accessAllowed ? 'block' : 'none';\n",
              "\n",
              "        async function convertToInteractive(key) {\n",
              "          const element = document.querySelector('#df-2b501fcc-7e18-4dfb-9964-fdfaf28891d6');\n",
              "          const dataTable =\n",
              "            await google.colab.kernel.invokeFunction('convertToInteractive',\n",
              "                                                     [key], {});\n",
              "          if (!dataTable) return;\n",
              "\n",
              "          const docLinkHtml = 'Like what you see? Visit the ' +\n",
              "            '<a target=\"_blank\" href=https://colab.research.google.com/notebooks/data_table.ipynb>data table notebook</a>'\n",
              "            + ' to learn more about interactive tables.';\n",
              "          element.innerHTML = '';\n",
              "          dataTable['output_type'] = 'display_data';\n",
              "          await google.colab.output.renderOutput(dataTable, element);\n",
              "          const docLink = document.createElement('div');\n",
              "          docLink.innerHTML = docLinkHtml;\n",
              "          element.appendChild(docLink);\n",
              "        }\n",
              "      </script>\n",
              "    </div>\n",
              "  </div>\n"
            ]
          },
          "metadata": {},
          "execution_count": 5
        }
      ]
    },
    {
      "cell_type": "markdown",
      "source": [
        "The .sample() method of a pandas DataFrame object returns a random sample of the DataFrame's rows. The number of rows to be returned can be specified as an argument to the method. In this case, we have specified that we want to return a sample of 6 rows.\n",
        "The .sample() method works by first shuffling the rows of the DataFrame and then taking the first n rows, where n is the number of rows specified as an argument to the method.\n",
        "The .sample() method is a useful tool for exploring a DataFrame and identifying interesting patterns or trends. It can also be used to create a representative sample of a DataFrame for use in further analysis."
      ],
      "metadata": {
        "id": "ZX-z_TlUx182"
      }
    },
    {
      "cell_type": "code",
      "source": [
        "print(f'Shape of the data: {df.shape}')"
      ],
      "metadata": {
        "colab": {
          "base_uri": "https://localhost:8080/"
        },
        "id": "XiGHWJkuRDxF",
        "outputId": "79c09d7b-a8f0-464c-f482-e2f4b2589f07"
      },
      "execution_count": 6,
      "outputs": [
        {
          "output_type": "stream",
          "name": "stdout",
          "text": [
            "Shape of the data: (21025, 201)\n"
          ]
        }
      ]
    },
    {
      "cell_type": "markdown",
      "source": [
        "The .shape attribute of a pandas DataFrame object returns a tuple containing the number of rows and columns in the DataFrame."
      ],
      "metadata": {
        "id": "HEJt7JItyALN"
      }
    },
    {
      "cell_type": "code",
      "source": [
        "print(f\"Unique Class Labels: {df.loc[:, 'class'].unique()}\")"
      ],
      "metadata": {
        "colab": {
          "base_uri": "https://localhost:8080/"
        },
        "id": "GDTNVssKRIBI",
        "outputId": "8ee296f7-3def-4877-8f55-e2040e62dda0"
      },
      "execution_count": 7,
      "outputs": [
        {
          "output_type": "stream",
          "name": "stdout",
          "text": [
            "Unique Class Labels: [ 3  0 15 11 12  5 10 14 16  2  4  8  6  9  1  7 13]\n"
          ]
        }
      ]
    },
    {
      "cell_type": "markdown",
      "source": [
        "The .loc[] method of a pandas DataFrame object can be used to select rows and columns by label. In this case, we are selecting all rows and the column named \"class\". The .unique() method of a pandas Series object returns a list of the unique values in the Series. In this case, the Series contains the class labels for the data.\n",
        "The .unique() method is a useful tool for exploring a dataset and identifying the different categories of data."
      ],
      "metadata": {
        "id": "0yTg9jcxyKqF"
      }
    },
    {
      "cell_type": "code",
      "source": [
        "df.loc[:, 'class'].value_counts()"
      ],
      "metadata": {
        "colab": {
          "base_uri": "https://localhost:8080/"
        },
        "id": "zeO4CIIMRMBH",
        "outputId": "72d10acf-a8a4-4f77-ce59-851c56380cbf"
      },
      "execution_count": 8,
      "outputs": [
        {
          "output_type": "execute_result",
          "data": {
            "text/plain": [
              "0     10776\n",
              "11     2455\n",
              "2      1428\n",
              "14     1265\n",
              "10      972\n",
              "3       830\n",
              "6       730\n",
              "12      593\n",
              "5       483\n",
              "8       478\n",
              "15      386\n",
              "4       237\n",
              "13      205\n",
              "16       93\n",
              "1        46\n",
              "7        28\n",
              "9        20\n",
              "Name: class, dtype: int64"
            ]
          },
          "metadata": {},
          "execution_count": 8
        }
      ]
    },
    {
      "cell_type": "markdown",
      "source": [
        "The .value_counts() method of a pandas Series object returns the frequency of each unique value in the Series. In this case, the Series contains the class labels for the data. The output of the .value_counts() method is a Series that shows the frequency of each class label."
      ],
      "metadata": {
        "id": "vgTUhUFZyUWr"
      }
    },
    {
      "cell_type": "code",
      "source": [
        "import matplotlib.ticker as ticker\n",
        "\n",
        "plt.figure(figsize=(14, 8))\n",
        "\n",
        "ax = sns.countplot(x='class', data=df[['class']])\n",
        "\n",
        "for p in ax.patches:\n",
        "        ax.annotate('{:.1f}%'.format(100*p.get_height()/df.shape[0]), (p.get_x()+0.1, p.get_height()+5))\n",
        "        ax.yaxis.set_major_locator(ticker.LinearLocator(11))\n",
        "\n",
        "plt.ylabel('Class count with percentage', fontsize=14)\n",
        "\n",
        "plt.xlabel('class', fontsize=14)\n",
        "\n",
        "plt.title('Bar Plot', fontsize=16)\n",
        "\n",
        "plt.show()"
      ],
      "metadata": {
        "colab": {
          "base_uri": "https://localhost:8080/",
          "height": 725
        },
        "id": "qege7bH3RS5O",
        "outputId": "b7042312-cbef-4f8c-8668-e665b1bd54f8"
      },
      "execution_count": 16,
      "outputs": [
        {
          "output_type": "display_data",
          "data": {
            "text/plain": [
              "<Figure size 1400x800 with 1 Axes>"
            ],
            "image/png": "[encoded data removed]"
          },
          "metadata": {}
        }
      ]
    },
    {
      "cell_type": "markdown",
      "source": [
        "creates a bar plot that shows the frequency of each class label in the dataset. The x-axis of the plot shows the different class labels, and the y-axis shows the frequency of each label. Additionally, the percentage of each class label is shown next to each bar."
      ],
      "metadata": {
        "id": "gs1_gUhfy1KZ"
      }
    },
    {
      "cell_type": "markdown",
      "source": [
        "## 4. Visualizing pixels of the Indian Pines HSI"
      ],
      "metadata": {
        "id": "ACKLy2CkeUwu"
      }
    },
    {
      "cell_type": "code",
      "source": [
        "# Visualizing the pixel\n",
        "\n",
        "plt.matshow(df.iloc[1, :-1].values.reshape(1,200), cmap='jet');"
      ],
      "metadata": {
        "colab": {
          "base_uri": "https://localhost:8080/",
          "height": 74
        },
        "id": "sAb9qgkMeXE2",
        "outputId": "9eeb8db6-8a9a-4227-d693-886d516a2734"
      },
      "execution_count": 10,
      "outputs": [
        {
          "output_type": "display_data",
          "data": {
            "text/plain": [
              "<Figure size 1600x200 with 1 Axes>"
            ],
            "image/png": "[encoded data removed]"
          },
          "metadata": {}
        }
      ]
    },
    {
      "cell_type": "markdown",
      "source": [
        "It is difficult to interpret the visualization of a vetor. So, to overcome this problem the pixel vector is reshape into a 2-Dimensional array.\n",
        "\n",
        "    200 => 10 X 20\n",
        "    (1, 200) => (10, 20)"
      ],
      "metadata": {
        "id": "YDg1NkPPwu6r"
      }
    },
    {
      "cell_type": "code",
      "source": [
        "from mpl_toolkits.axes_grid1 import make_axes_locatable\n",
        "def plot_pixel(pixel, n):\n",
        "    ax = plt.gca()\n",
        "    im = ax.imshow(pixel.reshape(10, 20), cmap = 'jet')\n",
        "    plt.title(f'pixel - {n}')\n",
        "    plt.axis('off')\n",
        "    divider = make_axes_locatable(ax)\n",
        "    cax = divider.append_axes(\"right\", size=\"5%\", pad=0.05)\n",
        "    plt.colorbar(im, cax=cax)\n",
        "    plt.show()"
      ],
      "metadata": {
        "id": "jItHsgmdwwRL"
      },
      "execution_count": 11,
      "outputs": []
    },
    {
      "cell_type": "markdown",
      "source": [
        "Defines a function called \"plot_pixel\" that takes a pixel and its index as input and plots the pixel as a 2D image. The image is displayed with a colorbar to show the pixel value."
      ],
      "metadata": {
        "id": "aY1ESYnBzKnV"
      }
    },
    {
      "cell_type": "code",
      "source": [
        "plt.figure(figsize=(8, 4))\n",
        "\n",
        "rand_n = np.random.randint(df.shape[0])\n",
        "\n",
        "plot_pixel(df.iloc[rand_n, :-1].values, rand_n)"
      ],
      "metadata": {
        "colab": {
          "base_uri": "https://localhost:8080/",
          "height": 352
        },
        "id": "RY74bz_yw7gd",
        "outputId": "6da7a990-e7fe-4e6b-808d-05ddd05482a8"
      },
      "execution_count": 12,
      "outputs": [
        {
          "output_type": "display_data",
          "data": {
            "text/plain": [
              "<Figure size 800x400 with 2 Axes>"
            ],
            "image/png": "[encoded data removed]"
          },
          "metadata": {}
        }
      ]
    },
    {
      "cell_type": "markdown",
      "source": [
        "Generates a random number between 0 and the number of rows in the dataset. This random number is then used to index into the dataset and select a random row. The values in the selected row are then plotted as a 2D image using the function \"plot_pixel\"."
      ],
      "metadata": {
        "id": "ZEH0qhXGzMBu"
      }
    },
    {
      "cell_type": "markdown",
      "source": [
        "## 5. Box plot w.r.t bands of the HSI"
      ],
      "metadata": {
        "id": "HUqPgk6Cw-bs"
      }
    },
    {
      "cell_type": "code",
      "source": [
        "plt.figure(figsize=(16, 6))\n",
        "n = int(input('Enter the band Number(1-200) :'))\n",
        "sns.boxplot( x=df[\"class\"], y=df[\"band-1\"], width=0.3);\n",
        "plt.title('Box Plot', fontsize= 16)\n",
        "plt.xlabel('Class', fontsize= 14)\n",
        "plt.ylabel(f'Band-{n}', fontsize= 14)\n",
        "plt.show()"
      ],
      "metadata": {
        "colab": {
          "base_uri": "https://localhost:8080/",
          "height": 584
        },
        "id": "SLS8GYLhxAcC",
        "outputId": "4b9b46bb-37dd-46fa-ca3a-049bbe1bdd58"
      },
      "execution_count": 13,
      "outputs": [
        {
          "name": "stdout",
          "output_type": "stream",
          "text": [
            "Enter the band Number(1-200) :11\n"
          ]
        },
        {
          "output_type": "display_data",
          "data": {
            "text/plain": [
              "<Figure size 1600x600 with 1 Axes>"
            ],
            "image/png": "[encoded data removed]"
          },
          "metadata": {}
        }
      ]
    },
    {
      "cell_type": "markdown",
      "source": [
        "Creates a box plot that shows the distribution of the values in the band-1 column for each class. The box plot shows the median, interquartile range, and outliers for each class.\n",
        "It also asks the user to input a band number. This band number is then used to select the band-1 column from the dataset.\n",
        "The box plot is a useful tool for visualizing the distribution of data. It can be used to identify outliers and to compare the distributions of data across different groups."
      ],
      "metadata": {
        "id": "cqSmZaa-zZzN"
      }
    },
    {
      "cell_type": "markdown",
      "source": [
        "Enter the band Number(1-200) :11"
      ],
      "metadata": {
        "id": "c27shJuGxJKf"
      }
    },
    {
      "cell_type": "markdown",
      "source": [
        "## 6. Distribution Plot"
      ],
      "metadata": {
        "id": "Ny8CtHU6xPEP"
      }
    },
    {
      "cell_type": "code",
      "source": [
        "print(f\"Details of Band - {n}: \\n\\n{df['band-'+str(n)].describe()}\")"
      ],
      "metadata": {
        "colab": {
          "base_uri": "https://localhost:8080/"
        },
        "id": "ZUa0UkSExP7M",
        "outputId": "e6e7cb7f-6a6e-49b5-d09b-247b388892dd"
      },
      "execution_count": 14,
      "outputs": [
        {
          "output_type": "stream",
          "name": "stdout",
          "text": [
            "Details of Band - 11: \n",
            "\n",
            "count    21025.000000\n",
            "mean      4407.192580\n",
            "std        596.191887\n",
            "min       2700.000000\n",
            "25%       3872.000000\n",
            "50%       4362.000000\n",
            "75%       4871.000000\n",
            "max       7990.000000\n",
            "Name: band-11, dtype: float64\n"
          ]
        }
      ]
    },
    {
      "cell_type": "markdown",
      "source": [
        "Prints the summary statistics for the band-1 column. The summary statistics include the mean, median, standard deviation, minimum, maximum, and quartiles.\n",
        "The summary statistics are a useful way to summarize the distribution of data. They can be used to identify outliers and to compare the distributions of data across different groups."
      ],
      "metadata": {
        "id": "dEGZIABXzoqS"
      }
    },
    {
      "cell_type": "code",
      "source": [
        "plt.figure(figsize=(16, 6))\n",
        "sns.distplot(df['band-'+str(n)], color='mediumSpringGreen', bins=100, hist_kws={'alpha': 0.4});\n",
        "plt.xlabel('Band - '+str(n), fontsize=14)\n",
        "plt.title('Disrtibution Plot of Band - '+str(n), fontsize=16)\n",
        "plt.show()"
      ],
      "metadata": {
        "colab": {
          "base_uri": "https://localhost:8080/",
          "height": 787
        },
        "id": "u7HlRmjVxU-q",
        "outputId": "2dd263e2-7001-4a22-abe2-b43092a20362"
      },
      "execution_count": 15,
      "outputs": [
        {
          "output_type": "stream",
          "name": "stderr",
          "text": [
            "<ipython-input-15-858dd87b33ac>:2: UserWarning: \n",
            "\n",
            "`distplot` is a deprecated function and will be removed in seaborn v0.14.0.\n",
            "\n",
            "Please adapt your code to use either `displot` (a figure-level function with\n",
            "similar flexibility) or `histplot` (an axes-level function for histograms).\n",
            "\n",
            "For a guide to updating your code to use the new functions, please see\n",
            "https://gist.github.com/mwaskom/de44147ed2974457ad6372750bbe5751\n",
            "\n",
            "  sns.distplot(df['band-'+str(n)], color='mediumSpringGreen', bins=100, hist_kws={'alpha': 0.4});\n"
          ]
        },
        {
          "output_type": "display_data",
          "data": {
            "text/plain": [
              "<Figure size 1600x600 with 1 Axes>"
            ],
            "image/png": "[encoded data removed]"
          },
          "metadata": {}
        }
      ]
    },
    {
      "cell_type": "markdown",
      "source": [
        "Creates a distribution plot of the values in the band-1 column. The distribution plot shows the frequency of occurrence of each value in the column.\n",
        "The distribution plot is a useful tool for visualizing the distribution of data. It can be used to identify outliers and to compare the distributions of data across different groups."
      ],
      "metadata": {
        "id": "fh0mOfGaztM4"
      }
    }
  ]
}